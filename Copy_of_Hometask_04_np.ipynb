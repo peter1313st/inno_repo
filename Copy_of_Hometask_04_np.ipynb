{
  "nbformat": 4,
  "nbformat_minor": 0,
  "metadata": {
    "colab": {
      "provenance": []
    },
    "kernelspec": {
      "name": "python3",
      "display_name": "Python 3"
    },
    "language_info": {
      "name": "python"
    }
  },
  "cells": [
    {
      "cell_type": "markdown",
      "source": [
        "Task 1"
      ],
      "metadata": {
        "id": "N-SN9SPWVci6"
      }
    },
    {
      "cell_type": "code",
      "execution_count": null,
      "metadata": {
        "id": "IBIgMP8OjVs1",
        "colab": {
          "base_uri": "https://localhost:8080/"
        },
        "outputId": "b10746a3-376b-4b5e-9ba0-409c6fd95ed5"
      },
      "outputs": [
        {
          "output_type": "stream",
          "name": "stdout",
          "text": [
            "[[  6  10]\n",
            " [-10   4]]\n",
            "[[ 2  4]\n",
            " [12 -6]]\n"
          ]
        }
      ],
      "source": [
        "import numpy as np\n",
        "# Task 1\n",
        "A=np.array([[1,2,1],[-2,1,1]])\n",
        "B=np.array([[3,1],[-1,0],[2,4]])\n",
        "C=np.array([[-2,2],[1,-1],[1,2]])\n",
        "# A+2*B\n",
        "# B+2*C\n",
        "dblB=2*B\n",
        "dblC=2*C\n",
        "res1=np.dot(A,dblB)\n",
        "res2=np.dot(A,dblC)\n",
        "print(res1)\n",
        "print(res2)"
      ]
    },
    {
      "cell_type": "markdown",
      "source": [
        "Task 2"
      ],
      "metadata": {
        "id": "xnH34JFjVKaD"
      }
    },
    {
      "cell_type": "code",
      "source": [
        "import numpy as np\n",
        "# Task 2\n",
        "chess88 = np.zeros((8, 8), dtype=int)  # Создаем матрицу 8х8, заполненную нулями\n",
        "\n",
        "chess88[::2, 1::2] = 1  # Записываем 1 в элементы с четными строками и нечетными столбцами\n",
        "chess88[1::2, ::2] = 1  # Записываем 1 в элементы с нечетными строками и четными столбцами\n",
        "print(chess88)"
      ],
      "metadata": {
        "colab": {
          "base_uri": "https://localhost:8080/"
        },
        "id": "zkzFrL6GVOkQ",
        "outputId": "98210f0a-d205-4fc4-d8a2-31b50439a246"
      },
      "execution_count": null,
      "outputs": [
        {
          "output_type": "stream",
          "name": "stdout",
          "text": [
            "[[0 1 0 1 0 1 0 1]\n",
            " [1 0 1 0 1 0 1 0]\n",
            " [0 1 0 1 0 1 0 1]\n",
            " [1 0 1 0 1 0 1 0]\n",
            " [0 1 0 1 0 1 0 1]\n",
            " [1 0 1 0 1 0 1 0]\n",
            " [0 1 0 1 0 1 0 1]\n",
            " [1 0 1 0 1 0 1 0]]\n"
          ]
        }
      ]
    }
  ]
}
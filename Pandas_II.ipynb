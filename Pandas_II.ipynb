{
  "cells": [
    {
      "cell_type": "code",
      "execution_count": null,
      "metadata": {
        "id": "-am9SsSO0kMY"
      },
      "outputs": [],
      "source": [
        "import numpy as np\n",
        "import pandas as pd"
      ]
    },
    {
      "cell_type": "markdown",
      "metadata": {
        "id": "LdSmTgwh0kMa"
      },
      "source": [
        "## Создание объекта"
      ]
    },
    {
      "cell_type": "code",
      "execution_count": null,
      "metadata": {
        "id": "gA-Ehc-s0kMc"
      },
      "outputs": [],
      "source": [
        "s = pd.Series([1, 3, 5, np.nan, 6, 8])\n",
        "s"
      ]
    },
    {
      "cell_type": "code",
      "execution_count": null,
      "metadata": {
        "id": "nT_ZkSj10kMc"
      },
      "outputs": [],
      "source": [
        "# указываем начало временнОго периода и число повторений (дни по умолчанию)\n",
        "dates = pd.date_range('20130101', periods=6)\n",
        "dates"
      ]
    },
    {
      "cell_type": "code",
      "execution_count": null,
      "metadata": {
        "id": "VgHHGx6n0kMd"
      },
      "outputs": [],
      "source": [
        "df = pd.DataFrame(np.random.randn(6, 4), index=dates, columns=list('ABCD'))\n",
        "df"
      ]
    },
    {
      "cell_type": "code",
      "execution_count": null,
      "metadata": {
        "id": "qCt4bpAP0kMe"
      },
      "outputs": [],
      "source": [
        "df2 = pd.DataFrame({'A': 1.,\n",
        "                    'B': pd.Timestamp('20130102'), # временнАя метка\n",
        "                    'C': pd.Series(1, index=list(range(4)), dtype='float32'), # Серия на основе списка\n",
        "                    'D': np.array([3] * 4, dtype='int32'), # массив целых чисел NumPy\n",
        "                    'E': pd.Categorical([\"test\", \"train\", \"test\", \"train\"]), # категории\n",
        "                    'F': 'foo'})\n",
        "df2"
      ]
    },
    {
      "cell_type": "code",
      "execution_count": null,
      "metadata": {
        "id": "MSNQ1Ocr0kMf"
      },
      "outputs": [],
      "source": [
        "df2.dtypes"
      ]
    },
    {
      "cell_type": "markdown",
      "metadata": {
        "id": "KzHn0XGK0kMg"
      },
      "source": [
        "## Просмотр данных"
      ]
    },
    {
      "cell_type": "code",
      "execution_count": null,
      "metadata": {
        "id": "46JcuHAw0kMh"
      },
      "outputs": [],
      "source": [
        "df.head()"
      ]
    },
    {
      "cell_type": "code",
      "execution_count": null,
      "metadata": {
        "id": "hYsuY_WA0kMh"
      },
      "outputs": [],
      "source": [
        "df.tail(3) # вывести последние три строки"
      ]
    },
    {
      "cell_type": "code",
      "execution_count": null,
      "metadata": {
        "id": "67EfqTl10kMi"
      },
      "outputs": [],
      "source": [
        "df.index"
      ]
    },
    {
      "cell_type": "code",
      "execution_count": null,
      "metadata": {
        "id": "1XshpzE70kMi"
      },
      "outputs": [],
      "source": [
        "df.columns"
      ]
    },
    {
      "cell_type": "code",
      "execution_count": null,
      "metadata": {
        "id": "pz01IIQf0kMj"
      },
      "outputs": [],
      "source": [
        "df.to_numpy()"
      ]
    },
    {
      "cell_type": "code",
      "execution_count": null,
      "metadata": {
        "id": "qJkVyXag0kMk"
      },
      "outputs": [],
      "source": [
        "df2.to_numpy()"
      ]
    },
    {
      "cell_type": "code",
      "execution_count": null,
      "metadata": {
        "id": "3whHXCZY0kMm"
      },
      "outputs": [],
      "source": [
        "df.describe()"
      ]
    },
    {
      "cell_type": "code",
      "execution_count": null,
      "metadata": {
        "id": "i5FpvkP40kMn"
      },
      "outputs": [],
      "source": [
        "df.T"
      ]
    },
    {
      "cell_type": "code",
      "execution_count": null,
      "metadata": {
        "id": "yKMk3CNg0kMo"
      },
      "outputs": [],
      "source": [
        "df.sort_index(axis=1, ascending=False) # по умолчанию axis=0, т.е. сортировка по строкам"
      ]
    },
    {
      "cell_type": "code",
      "execution_count": null,
      "metadata": {
        "id": "ID_MtMpq0kMp"
      },
      "outputs": [],
      "source": [
        "df.sort_values(by='B') # по умолчанию сортировка по индексу, выбрали столбец 'B'"
      ]
    },
    {
      "cell_type": "markdown",
      "metadata": {
        "id": "dLq2FtoE0kMt"
      },
      "source": [
        "### Получение"
      ]
    },
    {
      "cell_type": "code",
      "execution_count": null,
      "metadata": {
        "id": "GFZtzHuB0kMt"
      },
      "outputs": [],
      "source": [
        "df['A']"
      ]
    },
    {
      "cell_type": "code",
      "execution_count": null,
      "metadata": {
        "id": "adN3aqmH0kMu"
      },
      "outputs": [],
      "source": [
        "df[0:3]"
      ]
    },
    {
      "cell_type": "code",
      "execution_count": null,
      "metadata": {
        "id": "boh4mn3g0kMu"
      },
      "outputs": [],
      "source": [
        "df['20130102':'20130104']"
      ]
    },
    {
      "cell_type": "markdown",
      "metadata": {
        "id": "x_Wennn30kMv"
      },
      "source": [
        "### Выбор по метке"
      ]
    },
    {
      "cell_type": "code",
      "execution_count": null,
      "metadata": {
        "id": "w_n76LMT0kMv"
      },
      "outputs": [],
      "source": [
        "df.loc[dates[0]] # метка индекса Timestamp('2013-01-01 00:00:00', freq='D')"
      ]
    },
    {
      "cell_type": "code",
      "execution_count": null,
      "metadata": {
        "id": "WVVZJHRy0kMw"
      },
      "outputs": [],
      "source": [
        "df.loc[:, ['A', 'B']]"
      ]
    },
    {
      "cell_type": "code",
      "execution_count": null,
      "metadata": {
        "id": "A7SPf2v20kMw"
      },
      "outputs": [],
      "source": [
        "df.loc['20130102':'20130104', ['A', 'B']]"
      ]
    },
    {
      "cell_type": "code",
      "execution_count": null,
      "metadata": {
        "id": "roqOmwoQ0kMx"
      },
      "outputs": [],
      "source": [
        "df.loc['20130102', ['A', 'B']]"
      ]
    },
    {
      "cell_type": "code",
      "execution_count": null,
      "metadata": {
        "id": "itx98yWN0kMy"
      },
      "outputs": [],
      "source": [
        "df.loc[dates[0], 'A']"
      ]
    },
    {
      "cell_type": "code",
      "execution_count": null,
      "metadata": {
        "id": "1WrgP6Dm0kMy"
      },
      "outputs": [],
      "source": [
        "df.at[dates[0], 'A']"
      ]
    },
    {
      "cell_type": "markdown",
      "metadata": {
        "id": "BlYJ4Us40kMy"
      },
      "source": [
        "### Выбор по позиции"
      ]
    },
    {
      "cell_type": "code",
      "execution_count": null,
      "metadata": {
        "id": "zPfWJUGB0kMz"
      },
      "outputs": [],
      "source": [
        "df.iloc[3]"
      ]
    },
    {
      "cell_type": "code",
      "execution_count": null,
      "metadata": {
        "id": "mSzcQyWs0kMz"
      },
      "outputs": [],
      "source": [
        "df.iloc[3:5, 0:2]"
      ]
    },
    {
      "cell_type": "code",
      "execution_count": null,
      "metadata": {
        "id": "XGbSKbEn0kM0"
      },
      "outputs": [],
      "source": [
        "df.iloc[[1, 2, 4], [0, 2]]"
      ]
    },
    {
      "cell_type": "code",
      "execution_count": null,
      "metadata": {
        "id": "F4f7B25l0kM1"
      },
      "outputs": [],
      "source": [
        "df.iloc[1:3, :]"
      ]
    },
    {
      "cell_type": "code",
      "execution_count": null,
      "metadata": {
        "id": "idVah7JR0kM1"
      },
      "outputs": [],
      "source": [
        "df.iloc[:, 1:3]"
      ]
    },
    {
      "cell_type": "code",
      "execution_count": null,
      "metadata": {
        "id": "oHebjFjI0kM2"
      },
      "outputs": [],
      "source": [
        "df.iloc[1, 1]"
      ]
    },
    {
      "cell_type": "code",
      "execution_count": null,
      "metadata": {
        "id": "-W4vIPDZ0kM2"
      },
      "outputs": [],
      "source": [
        "df.iat[1, 1]"
      ]
    },
    {
      "cell_type": "markdown",
      "metadata": {
        "id": "1ktlaEMd0kM3"
      },
      "source": [
        "### Булево индексирование"
      ]
    },
    {
      "cell_type": "code",
      "execution_count": null,
      "metadata": {
        "id": "sroFHSAS0kM3"
      },
      "outputs": [],
      "source": [
        "df[df['A'] > 0]"
      ]
    },
    {
      "cell_type": "code",
      "execution_count": null,
      "metadata": {
        "id": "hI4fmwlr0kM4"
      },
      "outputs": [],
      "source": [
        "df[df > 0]"
      ]
    },
    {
      "cell_type": "code",
      "execution_count": null,
      "metadata": {
        "id": "qSf9T01P0kM4"
      },
      "outputs": [],
      "source": [
        "df2 = df.copy() # создаем копию исходгого кадра данных"
      ]
    },
    {
      "cell_type": "code",
      "execution_count": null,
      "metadata": {
        "id": "wYRbROBw0kM5"
      },
      "outputs": [],
      "source": [
        "df2['E'] = ['one', 'one', 'two', 'three', 'four', 'three'] # добавляем столбец\n",
        "df2"
      ]
    },
    {
      "cell_type": "code",
      "execution_count": null,
      "metadata": {
        "id": "yU5RfDy20kM5"
      },
      "outputs": [],
      "source": [
        "df2[df2['E'].isin(['two', 'four'])] # фильтруем"
      ]
    },
    {
      "cell_type": "markdown",
      "metadata": {
        "id": "g5Rvmdzs0kM5"
      },
      "source": [
        "### Установка значений"
      ]
    },
    {
      "cell_type": "code",
      "execution_count": null,
      "metadata": {
        "id": "B8Gtny130kM6"
      },
      "outputs": [],
      "source": [
        "s1 = pd.Series([1, 2, 3, 4, 5, 6], index=pd.date_range('20130102', periods=6))\n",
        "s1"
      ]
    },
    {
      "cell_type": "code",
      "execution_count": null,
      "metadata": {
        "id": "VdstM44-0kM6"
      },
      "outputs": [],
      "source": [
        "df['F'] = s1 # отсутствующие значения после выравнивания заменились NaN\n",
        "df"
      ]
    },
    {
      "cell_type": "code",
      "execution_count": null,
      "metadata": {
        "id": "AF5fJZx10kM7"
      },
      "outputs": [],
      "source": [
        "df.iat[0, 1] = 0\n",
        "df"
      ]
    },
    {
      "cell_type": "code",
      "execution_count": null,
      "metadata": {
        "id": "CCdGyNB-0kM7"
      },
      "outputs": [],
      "source": [
        "df.loc[:, 'D'] = np.array([5] * len(df))\n",
        "df"
      ]
    },
    {
      "cell_type": "code",
      "execution_count": null,
      "metadata": {
        "id": "YDViL_-d0kM8"
      },
      "outputs": [],
      "source": [
        "df2 = df.copy() # копируем кадр данных\n",
        "df2"
      ]
    },
    {
      "cell_type": "code",
      "execution_count": null,
      "metadata": {
        "id": "6bijntOu0kM9"
      },
      "outputs": [],
      "source": [
        "df2[df2 > 0] = -df2 # все положительные превращаем в отрицательные\n",
        "df2"
      ]
    },
    {
      "cell_type": "markdown",
      "metadata": {
        "id": "WCIPac7_0kM-"
      },
      "source": [
        "## Отсутствующие данные"
      ]
    },
    {
      "cell_type": "code",
      "execution_count": null,
      "metadata": {
        "id": "wYvrsKUY0kM_"
      },
      "outputs": [],
      "source": [
        "df1 = df.reindex(index=dates[0:4], columns=list(df.columns) + ['E'])\n",
        "df1"
      ]
    },
    {
      "cell_type": "code",
      "execution_count": null,
      "metadata": {
        "id": "xLFy87dV0kNA"
      },
      "outputs": [],
      "source": [
        "df1.loc[dates[0]:dates[1], 'E'] = 1\n",
        "df1"
      ]
    },
    {
      "cell_type": "code",
      "execution_count": null,
      "metadata": {
        "id": "-whi7fuK0kNA"
      },
      "outputs": [],
      "source": [
        "df1.dropna() # how='any', axis=0 по умолчанию, т.е. удаляются все строки с пропущенными данными"
      ]
    },
    {
      "cell_type": "code",
      "execution_count": null,
      "metadata": {
        "id": "J10UECNK0kNB"
      },
      "outputs": [],
      "source": [
        "df1.fillna(value=5)"
      ]
    },
    {
      "cell_type": "code",
      "execution_count": null,
      "metadata": {
        "id": "ywQnIuBo0kNB"
      },
      "outputs": [],
      "source": [
        "pd.isna(df1)"
      ]
    },
    {
      "cell_type": "markdown",
      "metadata": {
        "id": "7huDN9Mb0kNC"
      },
      "source": [
        "### Статистика"
      ]
    },
    {
      "cell_type": "code",
      "execution_count": null,
      "metadata": {
        "id": "6N47BtE30kND"
      },
      "outputs": [],
      "source": [
        "df.mean()"
      ]
    },
    {
      "cell_type": "code",
      "execution_count": null,
      "metadata": {
        "id": "EOtmvMYA0kND"
      },
      "outputs": [],
      "source": [
        "df.mean(1)"
      ]
    },
    {
      "cell_type": "code",
      "execution_count": null,
      "metadata": {
        "id": "Lqq1OGvt0kNE"
      },
      "outputs": [],
      "source": [
        "s = pd.Series([1, 3, 5, np.nan, 6, 8], index=dates).shift(2) # сдвигаем индекс\n",
        "s"
      ]
    },
    {
      "cell_type": "code",
      "execution_count": null,
      "metadata": {
        "id": "YDCkYzOU0kNE"
      },
      "outputs": [],
      "source": [
        "df"
      ]
    },
    {
      "cell_type": "code",
      "execution_count": null,
      "metadata": {
        "id": "bWBWLONs0kNE"
      },
      "outputs": [],
      "source": [
        "df.sub(s, axis=0) # https://pandas.pydata.org/pandas-docs/stable/reference/api/pandas.DataFrame.sub.html"
      ]
    },
    {
      "cell_type": "markdown",
      "metadata": {
        "id": "j56Q6TNU0kNE"
      },
      "source": [
        "### Apply"
      ]
    },
    {
      "cell_type": "code",
      "execution_count": null,
      "metadata": {
        "id": "3UX4RsKT0kNF"
      },
      "outputs": [],
      "source": [
        "df.apply(np.cumsum)"
      ]
    },
    {
      "cell_type": "code",
      "execution_count": null,
      "metadata": {
        "id": "3bo_ZXxz0kNF"
      },
      "outputs": [],
      "source": [
        "df.apply(lambda x: x.max() - x.min())"
      ]
    },
    {
      "cell_type": "markdown",
      "metadata": {
        "id": "uUBVUgq00kNF"
      },
      "source": [
        "### Гистограмма"
      ]
    },
    {
      "cell_type": "code",
      "execution_count": null,
      "metadata": {
        "id": "loC4a8qY0kNG"
      },
      "outputs": [],
      "source": [
        "s = pd.Series(np.random.randint(0, 7, size=10))\n",
        "s"
      ]
    },
    {
      "cell_type": "code",
      "execution_count": null,
      "metadata": {
        "id": "LkyPAULi0kNG"
      },
      "outputs": [],
      "source": [
        "s.value_counts()"
      ]
    },
    {
      "cell_type": "markdown",
      "metadata": {
        "id": "YDvFJkMn0kNG"
      },
      "source": [
        "### Строковые методы"
      ]
    },
    {
      "cell_type": "code",
      "execution_count": null,
      "metadata": {
        "id": "u6YkBCcA0kNH"
      },
      "outputs": [],
      "source": [
        "s = pd.Series(['A', 'B', 'C', 'Aaba', 'Baca', np.nan, 'CABA', 'dog', 'cat'])\n",
        "s"
      ]
    },
    {
      "cell_type": "code",
      "execution_count": null,
      "metadata": {
        "id": "9SQOuUsW0kNH"
      },
      "outputs": [],
      "source": [
        "s.str.lower()"
      ]
    },
    {
      "cell_type": "markdown",
      "metadata": {
        "id": "4HeDkxIC0kNH"
      },
      "source": [
        "## Объединение (Merge)"
      ]
    },
    {
      "cell_type": "markdown",
      "metadata": {
        "id": "0hfNn78a0kNH"
      },
      "source": [
        "### Concat"
      ]
    },
    {
      "cell_type": "code",
      "execution_count": null,
      "metadata": {
        "id": "WGcGPWIp0kNI"
      },
      "outputs": [],
      "source": [
        "df = pd.DataFrame(np.random.randn(10, 4))\n",
        "df"
      ]
    },
    {
      "cell_type": "code",
      "execution_count": null,
      "metadata": {
        "id": "I3aPgd6N0kNI"
      },
      "outputs": [],
      "source": [
        "pieces = [df[:3], df[3:7], df[7:]] # разбиваем на части"
      ]
    },
    {
      "cell_type": "code",
      "execution_count": null,
      "metadata": {
        "id": "JpXXdaBv0kNJ"
      },
      "outputs": [],
      "source": [
        "pd.concat(pieces)"
      ]
    },
    {
      "cell_type": "markdown",
      "metadata": {
        "id": "jv2yVX0s0kNJ"
      },
      "source": [
        "### Присоединение (Join)"
      ]
    },
    {
      "cell_type": "code",
      "execution_count": null,
      "metadata": {
        "id": "MTTKUGMm0kNJ"
      },
      "outputs": [],
      "source": [
        "left = pd.DataFrame({'key': ['foo', 'foo'], 'lval': [1, 2]})\n",
        "left"
      ]
    },
    {
      "cell_type": "code",
      "execution_count": null,
      "metadata": {
        "id": "R1ZXdUEA0kNK"
      },
      "outputs": [],
      "source": [
        "right = pd.DataFrame({'key': ['foo', 'foo'], 'rval': [4, 5]})\n",
        "right"
      ]
    },
    {
      "cell_type": "code",
      "execution_count": null,
      "metadata": {
        "id": "TIkZrcsl0kNK"
      },
      "outputs": [],
      "source": [
        "pd.merge(left, right, on='key')"
      ]
    },
    {
      "cell_type": "code",
      "execution_count": null,
      "metadata": {
        "id": "HnLFhP-60kNL"
      },
      "outputs": [],
      "source": [
        "left = pd.DataFrame({'key': ['foo', 'bar'], 'lval': [1, 2]})\n",
        "left"
      ]
    },
    {
      "cell_type": "code",
      "execution_count": null,
      "metadata": {
        "id": "3xbly61T0kNL"
      },
      "outputs": [],
      "source": [
        "right = pd.DataFrame({'key': ['foo', 'bar'], 'rval': [4, 5]})\n",
        "right"
      ]
    },
    {
      "cell_type": "code",
      "execution_count": null,
      "metadata": {
        "id": "tfSRRvLm0kNL"
      },
      "outputs": [],
      "source": [
        "pd.merge(left, right, on='key')"
      ]
    },
    {
      "cell_type": "markdown",
      "metadata": {
        "id": "VuJcjvQw0kNM"
      },
      "source": [
        "## Группировка"
      ]
    },
    {
      "cell_type": "code",
      "execution_count": null,
      "metadata": {
        "id": "XtoTqtCV0kNM"
      },
      "outputs": [],
      "source": [
        "df = pd.DataFrame({'A': ['foo', 'bar', 'foo', 'bar',\n",
        "                         'foo', 'bar', 'foo', 'foo'],\n",
        "                   'B': ['one', 'one', 'two', 'three',\n",
        "                         'two', 'two', 'one', 'three'],\n",
        "                   'C': np.random.randn(8),\n",
        "                   'D': np.random.randn(8)})\n",
        "df"
      ]
    },
    {
      "cell_type": "code",
      "execution_count": null,
      "metadata": {
        "id": "6mUh29pa0kNN"
      },
      "outputs": [],
      "source": [
        "df.groupby('A').sum()"
      ]
    },
    {
      "cell_type": "code",
      "execution_count": null,
      "metadata": {
        "id": "U6Bk81K20kNN"
      },
      "outputs": [],
      "source": [
        "df.groupby(['A', 'B']).sum()"
      ]
    },
    {
      "cell_type": "markdown",
      "metadata": {
        "id": "q0KKCjiF0kNO"
      },
      "source": [
        "## Изменение формы"
      ]
    },
    {
      "cell_type": "code",
      "execution_count": null,
      "metadata": {
        "id": "rEiVsmtE0kNO"
      },
      "outputs": [],
      "source": [
        "tuples = list(zip(*[['bar', 'bar', 'baz', 'baz',\n",
        "                     'foo', 'foo', 'qux', 'qux'],\n",
        "                    ['one', 'two', 'one', 'two',\n",
        "                     'one', 'two', 'one', 'two']]))\n",
        "tuples"
      ]
    },
    {
      "cell_type": "code",
      "execution_count": null,
      "metadata": {
        "id": "EICB2vio0kNP"
      },
      "outputs": [],
      "source": [
        "index = pd.MultiIndex.from_tuples(tuples, names=['first', 'second'])\n",
        "index"
      ]
    },
    {
      "cell_type": "code",
      "execution_count": null,
      "metadata": {
        "id": "hiA1uZki0kNP"
      },
      "outputs": [],
      "source": [
        "df = pd.DataFrame(np.random.randn(8, 2), index=index, columns=['A', 'B'])\n",
        "df"
      ]
    },
    {
      "cell_type": "code",
      "execution_count": null,
      "metadata": {
        "id": "GG-v87Lb0kNP"
      },
      "outputs": [],
      "source": [
        "df2 = df[:4]\n",
        "df2"
      ]
    },
    {
      "cell_type": "code",
      "execution_count": null,
      "metadata": {
        "id": "ta5zJJEH0kNQ"
      },
      "outputs": [],
      "source": [
        "stacked = df2.stack()\n",
        "stacked"
      ]
    },
    {
      "cell_type": "code",
      "execution_count": null,
      "metadata": {
        "id": "p1adUBTS0kNQ"
      },
      "outputs": [],
      "source": [
        "stacked.unstack()"
      ]
    },
    {
      "cell_type": "code",
      "execution_count": null,
      "metadata": {
        "id": "Qo8uDCuW0kNQ"
      },
      "outputs": [],
      "source": [
        "stacked.unstack(1)"
      ]
    },
    {
      "cell_type": "code",
      "execution_count": null,
      "metadata": {
        "id": "JZCkRAaZ0kNQ"
      },
      "outputs": [],
      "source": [
        "stacked.unstack(0)"
      ]
    },
    {
      "cell_type": "markdown",
      "metadata": {
        "id": "h842Z3Z20kNR"
      },
      "source": [
        "### Сводные таблицы (Pivot tables)"
      ]
    },
    {
      "cell_type": "code",
      "execution_count": null,
      "metadata": {
        "id": "ltbJW_bG0kNR"
      },
      "outputs": [],
      "source": [
        "df = pd.DataFrame({'A': ['one', 'one', 'two', 'three'] * 3,\n",
        "                   'B': ['A', 'B', 'C'] * 4,\n",
        "                   'C': ['foo', 'foo', 'foo', 'bar', 'bar', 'bar'] * 2,\n",
        "                   'D': np.random.randn(12),\n",
        "                   'E': np.random.randn(12)})\n",
        "df"
      ]
    },
    {
      "cell_type": "code",
      "execution_count": null,
      "metadata": {
        "id": "JFuQisDC0kNR"
      },
      "outputs": [],
      "source": [
        "pd.pivot_table(df, values='D', index=['A', 'B'], columns=['C'])"
      ]
    },
    {
      "cell_type": "markdown",
      "metadata": {
        "id": "PLtUaB7x0kNS"
      },
      "source": [
        "## Временные ряды"
      ]
    },
    {
      "cell_type": "code",
      "execution_count": null,
      "metadata": {
        "id": "KIi-0u-L0kNS"
      },
      "outputs": [],
      "source": [
        "rng = pd.date_range('1/1/2012', periods=100, freq='S')\n",
        "rng[:10]"
      ]
    },
    {
      "cell_type": "code",
      "execution_count": null,
      "metadata": {
        "id": "S5TIt2qE0kNS"
      },
      "outputs": [],
      "source": [
        "ts = pd.Series(np.random.randint(0, 500, len(rng)), index=rng)\n",
        "ts[:10]"
      ]
    },
    {
      "cell_type": "code",
      "execution_count": null,
      "metadata": {
        "id": "1qAoBUce0kNT"
      },
      "outputs": [],
      "source": [
        "ts.resample('5Min').sum()"
      ]
    },
    {
      "cell_type": "code",
      "execution_count": null,
      "metadata": {
        "id": "SkWh1oWG0kNT"
      },
      "outputs": [],
      "source": [
        "rng = pd.date_range('3/6/2012 00:00', periods=5, freq='D')\n",
        "rng"
      ]
    },
    {
      "cell_type": "code",
      "execution_count": null,
      "metadata": {
        "id": "u4xlLB0s0kNT"
      },
      "outputs": [],
      "source": [
        "ts = pd.Series(np.random.randn(len(rng)), rng)\n",
        "ts"
      ]
    },
    {
      "cell_type": "code",
      "execution_count": null,
      "metadata": {
        "id": "iRivsdrp0kNT"
      },
      "outputs": [],
      "source": [
        "ts"
      ]
    },
    {
      "cell_type": "code",
      "execution_count": null,
      "metadata": {
        "id": "XaCkNpRG0kNU"
      },
      "outputs": [],
      "source": [
        "ts_utc = ts.tz_localize('UTC')\n",
        "ts_utc"
      ]
    },
    {
      "cell_type": "code",
      "execution_count": null,
      "metadata": {
        "id": "tbces60h0kNU"
      },
      "outputs": [],
      "source": [
        "ts_utc.tz_convert('US/Eastern')"
      ]
    },
    {
      "cell_type": "code",
      "execution_count": null,
      "metadata": {
        "id": "bCGaVK6_0kNU"
      },
      "outputs": [],
      "source": [
        "rng = pd.date_range('1/1/2012', periods=5, freq='M')\n",
        "rng"
      ]
    },
    {
      "cell_type": "code",
      "execution_count": null,
      "metadata": {
        "id": "c7_FU5zr0kNV"
      },
      "outputs": [],
      "source": [
        "ts = pd.Series(np.random.randn(len(rng)), index=rng)\n",
        "ts"
      ]
    },
    {
      "cell_type": "code",
      "execution_count": null,
      "metadata": {
        "id": "JwDWvXvx0kNV"
      },
      "outputs": [],
      "source": [
        "ps = ts.to_period()\n",
        "ps"
      ]
    },
    {
      "cell_type": "code",
      "execution_count": null,
      "metadata": {
        "id": "0N2MjOyb0kNV"
      },
      "outputs": [],
      "source": [
        "ps.to_timestamp()"
      ]
    },
    {
      "cell_type": "code",
      "execution_count": null,
      "metadata": {
        "id": "g5cKyC2f0kNW"
      },
      "outputs": [],
      "source": [
        "prng = pd.period_range('1990Q1', '2000Q4', freq='Q-NOV')\n",
        "prng"
      ]
    },
    {
      "cell_type": "code",
      "execution_count": null,
      "metadata": {
        "id": "3gwZ_Xpr0kNW"
      },
      "outputs": [],
      "source": [
        "ts = pd.Series(np.random.randn(len(prng)), prng)\n",
        "ts[:10]"
      ]
    },
    {
      "cell_type": "code",
      "execution_count": null,
      "metadata": {
        "id": "gvsm9WOV0kNW"
      },
      "outputs": [],
      "source": [
        "ts.index = (prng.asfreq('M', 'e') + 1).asfreq('H', 's') + 9\n",
        "ts[:10]"
      ]
    },
    {
      "cell_type": "code",
      "execution_count": null,
      "metadata": {
        "id": "8GhrtkxQ0kNW"
      },
      "outputs": [],
      "source": [
        "ts.head()"
      ]
    },
    {
      "cell_type": "markdown",
      "metadata": {
        "id": "KBFMedqk0kNX"
      },
      "source": [
        "## Категории"
      ]
    },
    {
      "cell_type": "code",
      "execution_count": null,
      "metadata": {
        "id": "GWEiyoRq0kNX"
      },
      "outputs": [],
      "source": [
        "df = pd.DataFrame({\"id\": [1, 2, 3, 4, 5, 6],\n",
        "                   \"raw_grade\": ['a', 'b', 'b', 'a', 'a', 'e']})"
      ]
    },
    {
      "cell_type": "code",
      "execution_count": null,
      "metadata": {
        "id": "NXbDCykQ0kNX"
      },
      "outputs": [],
      "source": [
        "df[\"grade\"] = df[\"raw_grade\"].astype(\"category\")\n",
        "df[\"grade\"]"
      ]
    },
    {
      "cell_type": "code",
      "execution_count": null,
      "metadata": {
        "id": "R8eC828L0kNY"
      },
      "outputs": [],
      "source": [
        "df[\"grade\"] = df[\"grade\"].cat.set_categories([\"very bad\", \"bad\", \"medium\", \"good\", \"very good\"])\n",
        "df[\"grade\"]"
      ]
    },
    {
      "cell_type": "code",
      "execution_count": null,
      "metadata": {
        "id": "DrrjXs2o0kNY"
      },
      "outputs": [],
      "source": [
        "df.sort_values(by=\"grade\")"
      ]
    },
    {
      "cell_type": "code",
      "execution_count": null,
      "metadata": {
        "id": "mtyB4v5Y0kNZ"
      },
      "outputs": [],
      "source": [
        "df.groupby(\"grade\").size()"
      ]
    },
    {
      "cell_type": "markdown",
      "metadata": {
        "id": "u5mYbrZb0kNZ"
      },
      "source": [
        "## Plotting"
      ]
    },
    {
      "cell_type": "code",
      "execution_count": null,
      "metadata": {
        "id": "568Zke7N0kNa"
      },
      "outputs": [],
      "source": [
        "import matplotlib.pyplot as plt"
      ]
    },
    {
      "cell_type": "code",
      "execution_count": null,
      "metadata": {
        "id": "ALK7iFBQ0kNa"
      },
      "outputs": [],
      "source": [
        "ts = pd.Series(np.random.randn(1000),\n",
        "               index=pd.date_range('1/1/2000', periods=1000))\n",
        "ts"
      ]
    },
    {
      "cell_type": "code",
      "execution_count": null,
      "metadata": {
        "id": "3xDqNCwJ0kNa"
      },
      "outputs": [],
      "source": [
        "ts = ts.cumsum()\n",
        "ts"
      ]
    },
    {
      "cell_type": "code",
      "execution_count": null,
      "metadata": {
        "id": "h56h2_Ec0kNb"
      },
      "outputs": [],
      "source": [
        "ts.plot();"
      ]
    },
    {
      "cell_type": "code",
      "execution_count": null,
      "metadata": {
        "id": "E8O8Kp-H0kNb"
      },
      "outputs": [],
      "source": [
        "df = pd.DataFrame(np.random.randn(1000, 4), index=ts.index,\n",
        "                  columns=['A', 'B', 'C', 'D'])\n",
        "df.head()"
      ]
    },
    {
      "cell_type": "code",
      "execution_count": null,
      "metadata": {
        "id": "2RQ2rAA50kNb"
      },
      "outputs": [],
      "source": [
        "df = df.cumsum()\n",
        "df.head()"
      ]
    },
    {
      "cell_type": "code",
      "execution_count": null,
      "metadata": {
        "id": "CcIOS80U0kNc"
      },
      "outputs": [],
      "source": [
        "df.plot(legend='best');"
      ]
    },
    {
      "cell_type": "markdown",
      "metadata": {
        "id": "oVQ07f7X0kNc"
      },
      "source": [
        "## Получение и записаь данных"
      ]
    },
    {
      "cell_type": "markdown",
      "metadata": {
        "id": "3Sna1rv20kNc"
      },
      "source": [
        "### CSV"
      ]
    },
    {
      "cell_type": "code",
      "execution_count": null,
      "metadata": {
        "id": "-n8bV75b0kNd"
      },
      "outputs": [],
      "source": [
        "df.to_csv('foo.csv')"
      ]
    },
    {
      "cell_type": "code",
      "execution_count": null,
      "metadata": {
        "id": "m_MvPJh60kNd"
      },
      "outputs": [],
      "source": [
        "pd.read_csv('foo.csv')"
      ]
    },
    {
      "cell_type": "markdown",
      "metadata": {
        "id": "wzyTquR40kNd"
      },
      "source": [
        "### HDF5"
      ]
    },
    {
      "cell_type": "markdown",
      "metadata": {
        "id": "Vrt1Fmbm0kNe"
      },
      "source": [
        "Запись в `HDF5` хранилище:"
      ]
    },
    {
      "cell_type": "code",
      "execution_count": null,
      "metadata": {
        "id": "ckREtZ_70kNf"
      },
      "outputs": [],
      "source": [
        "df.to_hdf('foo.h5', 'df')"
      ]
    },
    {
      "cell_type": "markdown",
      "metadata": {
        "id": "4na3auZZ0kNf"
      },
      "source": [
        "Чтение из `HDF5` хранилища:"
      ]
    },
    {
      "cell_type": "code",
      "execution_count": null,
      "metadata": {
        "id": "weoY8Clc0kNf"
      },
      "outputs": [],
      "source": [
        "pd.read_hdf('foo.h5', 'df')"
      ]
    },
    {
      "cell_type": "markdown",
      "metadata": {
        "id": "mv_nTlH20kNf"
      },
      "source": [
        "### Excel"
      ]
    },
    {
      "cell_type": "code",
      "execution_count": null,
      "metadata": {
        "id": "9-DOBEO70kNg"
      },
      "outputs": [],
      "source": [
        "df.to_excel('foo.xlsx', sheet_name='Sheet1')"
      ]
    },
    {
      "cell_type": "code",
      "execution_count": null,
      "metadata": {
        "id": "eAo381e90kNg"
      },
      "outputs": [],
      "source": [
        "pd.read_excel('foo.xlsx', 'Sheet1', index_col=None, na_values=['NA'])"
      ]
    }
  ],
  "metadata": {
    "kernelspec": {
      "display_name": "Python 3",
      "language": "python",
      "name": "python3"
    },
    "language_info": {
      "codemirror_mode": {
        "name": "ipython",
        "version": 3
      },
      "file_extension": ".py",
      "mimetype": "text/x-python",
      "name": "python",
      "nbconvert_exporter": "python",
      "pygments_lexer": "ipython3",
      "version": "3.8.3"
    },
    "colab": {
      "provenance": []
    }
  },
  "nbformat": 4,
  "nbformat_minor": 0
}